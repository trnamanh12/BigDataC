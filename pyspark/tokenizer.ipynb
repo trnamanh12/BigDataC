{
 "cells": [
  {
   "cell_type": "code",
   "execution_count": 15,
   "metadata": {},
   "outputs": [],
   "source": [
    "from collections import defaultdict, Counter\n",
    "import re"
   ]
  },
  {
   "cell_type": "code",
   "execution_count": 1,
   "metadata": {},
   "outputs": [
    {
     "name": "stderr",
     "output_type": "stream",
     "text": [
      "24/05/20 20:05:33 WARN Utils: Your hostname, trnmah-IdeaPad-Gaming-3-15ACH6 resolves to a loopback address: 127.0.1.1; using 192.168.1.11 instead (on interface wlo1)\n",
      "24/05/20 20:05:33 WARN Utils: Set SPARK_LOCAL_IP if you need to bind to another address\n",
      "Setting default log level to \"WARN\".\n",
      "To adjust logging level use sc.setLogLevel(newLevel). For SparkR, use setLogLevel(newLevel).\n",
      "24/05/20 20:05:33 WARN NativeCodeLoader: Unable to load native-hadoop library for your platform... using builtin-java classes where applicable\n"
     ]
    }
   ],
   "source": [
    "from pyspark.sql import SparkSession\n",
    "\n",
    "spark = SparkSession.builder \\\n",
    "    .appName(\"BPE Tokenizer\") \\\n",
    "    .getOrCreate()\n"
   ]
  },
  {
   "cell_type": "code",
   "execution_count": 4,
   "metadata": {},
   "outputs": [],
   "source": [
    "text_file = \"./alice.txt\"\n",
    "text_rdd = spark.sparkContext.textFile(text_file)\n"
   ]
  },
  {
   "cell_type": "code",
   "execution_count": 9,
   "metadata": {},
   "outputs": [
    {
     "data": {
      "text/plain": [
       "['Alice was beginning to get very tired of sitting by her sister on the bank, and of having nothing to do: once or twice she had peeped into the book her sister was reading, but it had no pictures or conversations in it, “and what is the use of a book,” thought Alice “without pictures or conversations?” So she was considering in her own mind (as well as she could, for the hot day made her feel very sleepy and stupid), whether the pleasure of making a daisy-chain would be worth the trouble of getting up and picking the daisies, when suddenly a White Rabbit with pink eyes ran close by her. There was nothing so very remarkable in that; nor did Alice think it so very much out of the way to hear the Rabbit say to itself, “Oh dear! Oh dear! I shall be late!” (when she thought it over afterwards, it occurred to her that she ought to have wondered at this, but at the time it all seemed quite natural); but when the Rabbit actually took a watch out of its waistcoat-pocket, and looked at it, and then hurried on, Alice started to her feet, for it flashed across her mind that she had never before seen a rabbit with either a waistcoat-pocket, or a watch to take out of it, and burning with curiosity, she ran across the field after it, and fortunately was just in time to see it pop down a large rabbit-hole under the hedge.']"
      ]
     },
     "execution_count": 9,
     "metadata": {},
     "output_type": "execute_result"
    }
   ],
   "source": [
    "text_rdd.take(1)"
   ]
  },
  {
   "cell_type": "code",
   "execution_count": 13,
   "metadata": {},
   "outputs": [],
   "source": [
    "mapped_text = text_rdd.flatMap(lambda line: line.split(\" \")).take(10)"
   ]
  },
  {
   "cell_type": "code",
   "execution_count": 14,
   "metadata": {},
   "outputs": [
    {
     "data": {
      "text/plain": [
       "['Alice',\n",
       " 'was',\n",
       " 'beginning',\n",
       " 'to',\n",
       " 'get',\n",
       " 'very',\n",
       " 'tired',\n",
       " 'of',\n",
       " 'sitting',\n",
       " 'by']"
      ]
     },
     "execution_count": 14,
     "metadata": {},
     "output_type": "execute_result"
    }
   ],
   "source": [
    "mapped_text"
   ]
  },
  {
   "cell_type": "code",
   "execution_count": 19,
   "metadata": {},
   "outputs": [
    {
     "data": {
      "text/plain": [
       "Counter({'Alice was beginning to get very tired of sitting by </w>': 10})"
      ]
     },
     "execution_count": 19,
     "metadata": {},
     "output_type": "execute_result"
    }
   ],
   "source": [
    "# def build_vocab(rdd):\n",
    "#     vocab = Counter()\n",
    "#     for line in rdd.collect():\n",
    "#         tokens = tokenize(line)\n",
    "#         vocab[' '.join(tokens) + ' </w>'] += 1\n",
    "#     return vocab\n",
    "# build_vocab(mapped_text)"
   ]
  },
  {
   "cell_type": "code",
   "execution_count": null,
   "metadata": {},
   "outputs": [],
   "source": []
  },
  {
   "cell_type": "code",
   "execution_count": null,
   "metadata": {},
   "outputs": [],
   "source": [
    "# def build_vocab(rdd):\n",
    "#     vocab = Counter()\n",
    "#     for line in rdd.collect():\n",
    "#         tokens = tokenize(line)\n",
    "#         vocab[' '.join(tokens) + ' </w>'] += 1\n",
    "#     return vocab"
   ]
  },
  {
   "cell_type": "code",
   "execution_count": 12,
   "metadata": {},
   "outputs": [
    {
     "data": {
      "text/plain": [
       "['Alice was beginning to get very tired of sitting by her sister on the bank, and of having nothing to do: once or twice she had peeped into the book her sister was reading, but it had no pictures or conversations in it, “and what is the use of a book,” thought Alice “without pictures or conversations?” So she was considering in her own mind (as well as she could, for the hot day made her feel very sleepy and stupid), whether the pleasure of making a daisy-chain would be worth the trouble of getting up and picking the daisies, when suddenly a White Rabbit with pink eyes ran close by her. There was nothing so very remarkable in that; nor did Alice think it so very much out of the way to hear the Rabbit say to itself, “Oh dear! Oh dear! I shall be late!” (when she thought it over afterwards, it occurred to her that she ought to have wondered at this, but at the time it all seemed quite natural); but when the Rabbit actually took a watch out of its waistcoat-pocket, and looked at it, and then hurried on, Alice started to her feet, for it flashed across her mind that she had never before seen a rabbit with either a waistcoat-pocket, or a watch to take out of it, and burning with curiosity, she ran across the field after it, and fortunately was just in time to see it pop down a large rabbit-hole under the hedge.']"
      ]
     },
     "execution_count": 12,
     "metadata": {},
     "output_type": "execute_result"
    }
   ],
   "source": [
    "text_rdd.collect()"
   ]
  },
  {
   "cell_type": "code",
   "execution_count": 11,
   "metadata": {},
   "outputs": [
    {
     "data": {
      "text/plain": [
       "{('e', 'l'), ('h', 'e'), ('l', 'l'), ('l', 'o')}"
      ]
     },
     "execution_count": 11,
     "metadata": {},
     "output_type": "execute_result"
    }
   ],
   "source": [
    "def get_pairs(word):\n",
    "    pairs = set()\n",
    "    prev_char = word[0]\n",
    "    for char in word[1:]:\n",
    "        pairs.add((prev_char, char))\n",
    "        prev_char = char\n",
    "    return pairs\n",
    "get_pairs(\"hello\")"
   ]
  },
  {
   "cell_type": "code",
   "execution_count": 24,
   "metadata": {},
   "outputs": [
    {
     "name": "stdout",
     "output_type": "stream",
     "text": [
      "b\n",
      "b\n"
     ]
    }
   ],
   "source": [
    "diction = {\n",
    "    'a':2,\n",
    "    'b':3\n",
    "}\n",
    "print(max(diction, key=diction.get))\n",
    "print(max(diction,  ))"
   ]
  },
  {
   "cell_type": "code",
   "execution_count": 31,
   "metadata": {},
   "outputs": [
    {
     "data": {
      "text/plain": [
       "'a@b'"
      ]
     },
     "execution_count": 31,
     "metadata": {},
     "output_type": "execute_result"
    }
   ],
   "source": [
    "a = ('a@', 'b')\n",
    "re.escape(''.join(a))"
   ]
  },
  {
   "cell_type": "code",
   "execution_count": null,
   "metadata": {},
   "outputs": [],
   "source": []
  },
  {
   "cell_type": "code",
   "execution_count": null,
   "metadata": {},
   "outputs": [],
   "source": []
  },
  {
   "cell_type": "code",
   "execution_count": 32,
   "metadata": {},
   "outputs": [
    {
     "name": "stdout",
     "output_type": "stream",
     "text": [
      "Alice: 4\n",
      "was: 5\n",
      "beginning: 1\n",
      "to: 9\n",
      "get: 1\n",
      "very: 4\n",
      "tired: 1\n",
      "of: 8\n",
      "sitting: 1\n",
      "by: 2\n",
      "her: 7\n",
      "sister: 2\n",
      "on: 1\n",
      "the: 13\n",
      "bank,: 1\n",
      "and: 7\n",
      "having: 1\n",
      "nothing: 2\n",
      "do:: 1\n",
      "once: 1\n",
      "or: 4\n",
      "twice: 1\n",
      "she: 7\n",
      "had: 3\n",
      "peeped: 1\n",
      "into: 1\n",
      "book: 1\n",
      "reading,: 1\n",
      "but: 3\n",
      "it: 7\n",
      "no: 1\n",
      "pictures: 2\n",
      "conversations: 1\n",
      "in: 4\n",
      "it,: 4\n",
      "“and: 1\n",
      "what: 1\n",
      "is: 1\n",
      "use: 1\n",
      "a: 8\n",
      "book,”: 1\n",
      "thought: 2\n",
      "“without: 1\n",
      "conversations?”: 1\n",
      "So: 1\n",
      "considering: 1\n",
      "own: 1\n",
      "mind: 2\n",
      "(as: 1\n",
      "well: 1\n",
      "as: 1\n",
      "could,: 1\n",
      "for: 2\n",
      "hot: 1\n",
      "day: 1\n",
      "made: 1\n",
      "feel: 1\n",
      "sleepy: 1\n",
      "stupid),: 1\n",
      "whether: 1\n",
      "pleasure: 1\n",
      "making: 1\n",
      "daisy-chain: 1\n",
      "would: 1\n",
      "be: 2\n",
      "worth: 1\n",
      "trouble: 1\n",
      "getting: 1\n",
      "up: 1\n",
      "picking: 1\n",
      "daisies,: 1\n",
      "when: 2\n",
      "suddenly: 1\n",
      "White: 1\n",
      "Rabbit: 3\n",
      "with: 3\n",
      "pink: 1\n",
      "eyes: 1\n",
      "ran: 2\n",
      "close: 1\n",
      "her.: 1\n",
      "There: 1\n",
      "so: 2\n",
      "remarkable: 1\n",
      "that;: 1\n",
      "nor: 1\n",
      "did: 1\n",
      "think: 1\n",
      "much: 1\n",
      "out: 3\n",
      "way: 1\n",
      "hear: 1\n",
      "say: 1\n",
      "itself,: 1\n",
      "“Oh: 1\n",
      "dear!: 2\n",
      "Oh: 1\n",
      "I: 1\n",
      "shall: 1\n",
      "late!”: 1\n",
      "(when: 1\n",
      "over: 1\n",
      "afterwards,: 1\n",
      "occurred: 1\n",
      "that: 2\n",
      "ought: 1\n",
      "have: 1\n",
      "wondered: 1\n",
      "at: 3\n",
      "this,: 1\n",
      "time: 2\n",
      "all: 1\n",
      "seemed: 1\n",
      "quite: 1\n",
      "natural);: 1\n",
      "actually: 1\n",
      "took: 1\n",
      "watch: 2\n",
      "its: 1\n",
      "waistcoat-pocket,: 2\n",
      "looked: 1\n",
      "then: 1\n",
      "hurried: 1\n",
      "on,: 1\n",
      "started: 1\n",
      "feet,: 1\n",
      "flashed: 1\n",
      "across: 2\n",
      "never: 1\n",
      "before: 1\n",
      "seen: 1\n",
      "rabbit: 1\n",
      "either: 1\n",
      "take: 1\n",
      "burning: 1\n",
      "curiosity,: 1\n",
      "field: 1\n",
      "after: 1\n",
      "fortunately: 1\n",
      "just: 1\n",
      "see: 1\n",
      "pop: 1\n",
      "down: 1\n",
      "large: 1\n",
      "rabbit-hole: 1\n",
      "under: 1\n",
      "hedge.: 1\n"
     ]
    }
   ],
   "source": [
    "# Tokenize the text into characters\n",
    "def tokenize(text):\n",
    "    return text.split()\n",
    "\n",
    "# Get BPE Pairs\n",
    "def get_pairs(word):\n",
    "    pairs = set()\n",
    "    prev_char = word[0]\n",
    "    for char in word[1:]:\n",
    "        pairs.add((prev_char, char))\n",
    "        prev_char = char\n",
    "    return pairs\n",
    "\n",
    "# BPE Learn Function\n",
    "def learn_bpe(vocab, num_merges):\n",
    "    for i in range(num_merges):\n",
    "        pairs = defaultdict(int)\n",
    "        for word, freq in vocab.items():\n",
    "            for pair in get_pairs(word):\n",
    "                pairs[pair] += freq\n",
    "        if not pairs:\n",
    "            break\n",
    "\n",
    "        best = max(pairs, key=pairs.get)\n",
    "        bigram = re.escape(' '.join(best))\n",
    "        pattern = re.compile(r'(?<!\\S)' + bigram + r'(?!\\S)')\n",
    "        \n",
    "        vocab_out = {}\n",
    "        for word in vocab:\n",
    "            w_out = pattern.sub(''.join(best), word)\n",
    "            vocab_out[w_out] = vocab[word]\n",
    "        vocab = vocab_out\n",
    "\n",
    "    return vocab\n",
    "\n",
    "# Prepare Vocabulary\n",
    "def build_vocab(rdd):\n",
    "    vocab = Counter()\n",
    "    for line in rdd.collect():\n",
    "        tokens = tokenize(line)\n",
    "        for token in tokens:\n",
    "            vocab[token] += 1\n",
    "        # vocab[' '.join(tokens) + ' </w>'] += 1\n",
    "    return vocab\n",
    "\n",
    "\n",
    "num_merges = 1000  # Define the number of merges\n",
    "vocab = build_vocab(text_rdd)\n",
    "# print(vocab)\n",
    "vocab = learn_bpe(vocab, num_merges)\n",
    "\n",
    "# Display the learned vocabulary\n",
    "for word, freq in vocab.items():\n",
    "    print(f\"{word}: {freq}\")\n"
   ]
  },
  {
   "cell_type": "code",
   "execution_count": 33,
   "metadata": {},
   "outputs": [],
   "source": [
    "import json\n",
    "\n",
    "vocab_file = \"./output.txt\"\n",
    "with open(vocab_file, 'w') as f:\n",
    "    json.dump(vocab, f)\n"
   ]
  },
  {
   "cell_type": "code",
   "execution_count": null,
   "metadata": {},
   "outputs": [],
   "source": []
  }
 ],
 "metadata": {
  "kernelspec": {
   "display_name": "bigdata",
   "language": "python",
   "name": "python3"
  },
  "language_info": {
   "codemirror_mode": {
    "name": "ipython",
    "version": 3
   },
   "file_extension": ".py",
   "mimetype": "text/x-python",
   "name": "python",
   "nbconvert_exporter": "python",
   "pygments_lexer": "ipython3",
   "version": "3.11.0"
  }
 },
 "nbformat": 4,
 "nbformat_minor": 2
}
